{
 "cells": [
  {
   "cell_type": "markdown",
   "metadata": {
    "collapsed": true
   },
   "source": [
    "# Machine Learning & Statistics Project 2019\n",
    "\n",
    "## Declan Reidy G00364690\n",
    "\n",
    "### November 2019"
   ]
  },
  {
   "cell_type": "markdown",
   "metadata": {},
   "source": []
  },
  {
   "cell_type": "code",
   "execution_count": 2,
   "metadata": {},
   "outputs": [
    {
     "name": "stderr",
     "output_type": "stream",
     "text": [
      "Using TensorFlow backend.\n"
     ]
    }
   ],
   "source": [
    "import keras as kr\n",
    "import numpy as np\n",
    "import pandas as pd\n",
    "import matplotlib.pyplot as plt"
   ]
  },
  {
   "cell_type": "code",
   "execution_count": 3,
   "metadata": {},
   "outputs": [],
   "source": [
    "#Set parameters for all displays within the notebook\n",
    "\n",
    "plt.rcParams['figure.figsize'] = (10, 10)"
   ]
  },
  {
   "cell_type": "markdown",
   "metadata": {},
   "source": [
    "Importing the Boston House Prices dataset into your Jupyter notebook."
   ]
  },
  {
   "cell_type": "code",
   "execution_count": 4,
   "metadata": {},
   "outputs": [
    {
     "data": {
      "text/html": [
       "<div>\n",
       "<style scoped>\n",
       "    .dataframe tbody tr th:only-of-type {\n",
       "        vertical-align: middle;\n",
       "    }\n",
       "\n",
       "    .dataframe tbody tr th {\n",
       "        vertical-align: top;\n",
       "    }\n",
       "\n",
       "    .dataframe thead th {\n",
       "        text-align: right;\n",
       "    }\n",
       "</style>\n",
       "<table border=\"1\" class=\"dataframe\">\n",
       "  <thead>\n",
       "    <tr style=\"text-align: right;\">\n",
       "      <th></th>\n",
       "      <th>crim</th>\n",
       "      <th>zn</th>\n",
       "      <th>indus</th>\n",
       "      <th>chas</th>\n",
       "      <th>nox</th>\n",
       "      <th>rm</th>\n",
       "      <th>age</th>\n",
       "      <th>dis</th>\n",
       "      <th>rad</th>\n",
       "      <th>tax</th>\n",
       "      <th>ptratio</th>\n",
       "      <th>b</th>\n",
       "      <th>lstat</th>\n",
       "      <th>medv</th>\n",
       "    </tr>\n",
       "  </thead>\n",
       "  <tbody>\n",
       "    <tr>\n",
       "      <td>0</td>\n",
       "      <td>0.00632</td>\n",
       "      <td>18.0</td>\n",
       "      <td>2.31</td>\n",
       "      <td>0</td>\n",
       "      <td>0.538</td>\n",
       "      <td>6.575</td>\n",
       "      <td>65.2</td>\n",
       "      <td>4.0900</td>\n",
       "      <td>1</td>\n",
       "      <td>296</td>\n",
       "      <td>15.3</td>\n",
       "      <td>396.90</td>\n",
       "      <td>4.98</td>\n",
       "      <td>24.0</td>\n",
       "    </tr>\n",
       "    <tr>\n",
       "      <td>1</td>\n",
       "      <td>0.02731</td>\n",
       "      <td>0.0</td>\n",
       "      <td>7.07</td>\n",
       "      <td>0</td>\n",
       "      <td>0.469</td>\n",
       "      <td>6.421</td>\n",
       "      <td>78.9</td>\n",
       "      <td>4.9671</td>\n",
       "      <td>2</td>\n",
       "      <td>242</td>\n",
       "      <td>17.8</td>\n",
       "      <td>396.90</td>\n",
       "      <td>9.14</td>\n",
       "      <td>21.6</td>\n",
       "    </tr>\n",
       "    <tr>\n",
       "      <td>2</td>\n",
       "      <td>0.02729</td>\n",
       "      <td>0.0</td>\n",
       "      <td>7.07</td>\n",
       "      <td>0</td>\n",
       "      <td>0.469</td>\n",
       "      <td>7.185</td>\n",
       "      <td>61.1</td>\n",
       "      <td>4.9671</td>\n",
       "      <td>2</td>\n",
       "      <td>242</td>\n",
       "      <td>17.8</td>\n",
       "      <td>392.83</td>\n",
       "      <td>4.03</td>\n",
       "      <td>34.7</td>\n",
       "    </tr>\n",
       "    <tr>\n",
       "      <td>3</td>\n",
       "      <td>0.03237</td>\n",
       "      <td>0.0</td>\n",
       "      <td>2.18</td>\n",
       "      <td>0</td>\n",
       "      <td>0.458</td>\n",
       "      <td>6.998</td>\n",
       "      <td>45.8</td>\n",
       "      <td>6.0622</td>\n",
       "      <td>3</td>\n",
       "      <td>222</td>\n",
       "      <td>18.7</td>\n",
       "      <td>394.63</td>\n",
       "      <td>2.94</td>\n",
       "      <td>33.4</td>\n",
       "    </tr>\n",
       "    <tr>\n",
       "      <td>4</td>\n",
       "      <td>0.06905</td>\n",
       "      <td>0.0</td>\n",
       "      <td>2.18</td>\n",
       "      <td>0</td>\n",
       "      <td>0.458</td>\n",
       "      <td>7.147</td>\n",
       "      <td>54.2</td>\n",
       "      <td>6.0622</td>\n",
       "      <td>3</td>\n",
       "      <td>222</td>\n",
       "      <td>18.7</td>\n",
       "      <td>396.90</td>\n",
       "      <td>5.33</td>\n",
       "      <td>36.2</td>\n",
       "    </tr>\n",
       "    <tr>\n",
       "      <td>5</td>\n",
       "      <td>0.02985</td>\n",
       "      <td>0.0</td>\n",
       "      <td>2.18</td>\n",
       "      <td>0</td>\n",
       "      <td>0.458</td>\n",
       "      <td>6.430</td>\n",
       "      <td>58.7</td>\n",
       "      <td>6.0622</td>\n",
       "      <td>3</td>\n",
       "      <td>222</td>\n",
       "      <td>18.7</td>\n",
       "      <td>394.12</td>\n",
       "      <td>5.21</td>\n",
       "      <td>28.7</td>\n",
       "    </tr>\n",
       "    <tr>\n",
       "      <td>6</td>\n",
       "      <td>0.08829</td>\n",
       "      <td>12.5</td>\n",
       "      <td>7.87</td>\n",
       "      <td>0</td>\n",
       "      <td>0.524</td>\n",
       "      <td>6.012</td>\n",
       "      <td>66.6</td>\n",
       "      <td>5.5605</td>\n",
       "      <td>5</td>\n",
       "      <td>311</td>\n",
       "      <td>15.2</td>\n",
       "      <td>395.60</td>\n",
       "      <td>12.43</td>\n",
       "      <td>22.9</td>\n",
       "    </tr>\n",
       "    <tr>\n",
       "      <td>7</td>\n",
       "      <td>0.14455</td>\n",
       "      <td>12.5</td>\n",
       "      <td>7.87</td>\n",
       "      <td>0</td>\n",
       "      <td>0.524</td>\n",
       "      <td>6.172</td>\n",
       "      <td>96.1</td>\n",
       "      <td>5.9505</td>\n",
       "      <td>5</td>\n",
       "      <td>311</td>\n",
       "      <td>15.2</td>\n",
       "      <td>396.90</td>\n",
       "      <td>19.15</td>\n",
       "      <td>27.1</td>\n",
       "    </tr>\n",
       "    <tr>\n",
       "      <td>8</td>\n",
       "      <td>0.21124</td>\n",
       "      <td>12.5</td>\n",
       "      <td>7.87</td>\n",
       "      <td>0</td>\n",
       "      <td>0.524</td>\n",
       "      <td>5.631</td>\n",
       "      <td>100.0</td>\n",
       "      <td>6.0821</td>\n",
       "      <td>5</td>\n",
       "      <td>311</td>\n",
       "      <td>15.2</td>\n",
       "      <td>386.63</td>\n",
       "      <td>29.93</td>\n",
       "      <td>16.5</td>\n",
       "    </tr>\n",
       "    <tr>\n",
       "      <td>9</td>\n",
       "      <td>0.17004</td>\n",
       "      <td>12.5</td>\n",
       "      <td>7.87</td>\n",
       "      <td>0</td>\n",
       "      <td>0.524</td>\n",
       "      <td>6.004</td>\n",
       "      <td>85.9</td>\n",
       "      <td>6.5921</td>\n",
       "      <td>5</td>\n",
       "      <td>311</td>\n",
       "      <td>15.2</td>\n",
       "      <td>386.71</td>\n",
       "      <td>17.10</td>\n",
       "      <td>18.9</td>\n",
       "    </tr>\n",
       "  </tbody>\n",
       "</table>\n",
       "</div>"
      ],
      "text/plain": [
       "      crim    zn  indus  chas    nox     rm    age     dis  rad  tax  ptratio  \\\n",
       "0  0.00632  18.0   2.31     0  0.538  6.575   65.2  4.0900    1  296     15.3   \n",
       "1  0.02731   0.0   7.07     0  0.469  6.421   78.9  4.9671    2  242     17.8   \n",
       "2  0.02729   0.0   7.07     0  0.469  7.185   61.1  4.9671    2  242     17.8   \n",
       "3  0.03237   0.0   2.18     0  0.458  6.998   45.8  6.0622    3  222     18.7   \n",
       "4  0.06905   0.0   2.18     0  0.458  7.147   54.2  6.0622    3  222     18.7   \n",
       "5  0.02985   0.0   2.18     0  0.458  6.430   58.7  6.0622    3  222     18.7   \n",
       "6  0.08829  12.5   7.87     0  0.524  6.012   66.6  5.5605    5  311     15.2   \n",
       "7  0.14455  12.5   7.87     0  0.524  6.172   96.1  5.9505    5  311     15.2   \n",
       "8  0.21124  12.5   7.87     0  0.524  5.631  100.0  6.0821    5  311     15.2   \n",
       "9  0.17004  12.5   7.87     0  0.524  6.004   85.9  6.5921    5  311     15.2   \n",
       "\n",
       "        b  lstat  medv  \n",
       "0  396.90   4.98  24.0  \n",
       "1  396.90   9.14  21.6  \n",
       "2  392.83   4.03  34.7  \n",
       "3  394.63   2.94  33.4  \n",
       "4  396.90   5.33  36.2  \n",
       "5  394.12   5.21  28.7  \n",
       "6  395.60  12.43  22.9  \n",
       "7  396.90  19.15  27.1  \n",
       "8  386.63  29.93  16.5  \n",
       "9  386.71  17.10  18.9  "
      ]
     },
     "execution_count": 4,
     "metadata": {},
     "output_type": "execute_result"
    }
   ],
   "source": [
    "#display the first 10 rows of the dataset.\n",
    "\n",
    "df = pd.read_csv(\"BostonHousePrices.csv\")\n",
    "df.head(10)"
   ]
  },
  {
   "cell_type": "code",
   "execution_count": 5,
   "metadata": {},
   "outputs": [
    {
     "data": {
      "text/html": [
       "<div>\n",
       "<style scoped>\n",
       "    .dataframe tbody tr th:only-of-type {\n",
       "        vertical-align: middle;\n",
       "    }\n",
       "\n",
       "    .dataframe tbody tr th {\n",
       "        vertical-align: top;\n",
       "    }\n",
       "\n",
       "    .dataframe thead th {\n",
       "        text-align: right;\n",
       "    }\n",
       "</style>\n",
       "<table border=\"1\" class=\"dataframe\">\n",
       "  <thead>\n",
       "    <tr style=\"text-align: right;\">\n",
       "      <th></th>\n",
       "      <th>crim</th>\n",
       "      <th>zn</th>\n",
       "      <th>indus</th>\n",
       "      <th>chas</th>\n",
       "      <th>nox</th>\n",
       "      <th>rm</th>\n",
       "      <th>age</th>\n",
       "      <th>dis</th>\n",
       "      <th>rad</th>\n",
       "      <th>tax</th>\n",
       "      <th>ptratio</th>\n",
       "      <th>b</th>\n",
       "      <th>lstat</th>\n",
       "      <th>medv</th>\n",
       "      <th>test</th>\n",
       "    </tr>\n",
       "  </thead>\n",
       "  <tbody>\n",
       "    <tr>\n",
       "      <td>0</td>\n",
       "      <td>0.00632</td>\n",
       "      <td>18.0</td>\n",
       "      <td>2.31</td>\n",
       "      <td>0</td>\n",
       "      <td>0.538</td>\n",
       "      <td>6.575</td>\n",
       "      <td>65.2</td>\n",
       "      <td>4.0900</td>\n",
       "      <td>1</td>\n",
       "      <td>296</td>\n",
       "      <td>15.3</td>\n",
       "      <td>396.90</td>\n",
       "      <td>4.98</td>\n",
       "      <td>24.0</td>\n",
       "      <td>1480</td>\n",
       "    </tr>\n",
       "    <tr>\n",
       "      <td>1</td>\n",
       "      <td>0.02731</td>\n",
       "      <td>0.0</td>\n",
       "      <td>7.07</td>\n",
       "      <td>0</td>\n",
       "      <td>0.469</td>\n",
       "      <td>6.421</td>\n",
       "      <td>78.9</td>\n",
       "      <td>4.9671</td>\n",
       "      <td>2</td>\n",
       "      <td>242</td>\n",
       "      <td>17.8</td>\n",
       "      <td>396.90</td>\n",
       "      <td>9.14</td>\n",
       "      <td>21.6</td>\n",
       "      <td>1210</td>\n",
       "    </tr>\n",
       "    <tr>\n",
       "      <td>2</td>\n",
       "      <td>0.02729</td>\n",
       "      <td>0.0</td>\n",
       "      <td>7.07</td>\n",
       "      <td>0</td>\n",
       "      <td>0.469</td>\n",
       "      <td>7.185</td>\n",
       "      <td>61.1</td>\n",
       "      <td>4.9671</td>\n",
       "      <td>2</td>\n",
       "      <td>242</td>\n",
       "      <td>17.8</td>\n",
       "      <td>392.83</td>\n",
       "      <td>4.03</td>\n",
       "      <td>34.7</td>\n",
       "      <td>1210</td>\n",
       "    </tr>\n",
       "    <tr>\n",
       "      <td>3</td>\n",
       "      <td>0.03237</td>\n",
       "      <td>0.0</td>\n",
       "      <td>2.18</td>\n",
       "      <td>0</td>\n",
       "      <td>0.458</td>\n",
       "      <td>6.998</td>\n",
       "      <td>45.8</td>\n",
       "      <td>6.0622</td>\n",
       "      <td>3</td>\n",
       "      <td>222</td>\n",
       "      <td>18.7</td>\n",
       "      <td>394.63</td>\n",
       "      <td>2.94</td>\n",
       "      <td>33.4</td>\n",
       "      <td>1110</td>\n",
       "    </tr>\n",
       "    <tr>\n",
       "      <td>4</td>\n",
       "      <td>0.06905</td>\n",
       "      <td>0.0</td>\n",
       "      <td>2.18</td>\n",
       "      <td>0</td>\n",
       "      <td>0.458</td>\n",
       "      <td>7.147</td>\n",
       "      <td>54.2</td>\n",
       "      <td>6.0622</td>\n",
       "      <td>3</td>\n",
       "      <td>222</td>\n",
       "      <td>18.7</td>\n",
       "      <td>396.90</td>\n",
       "      <td>5.33</td>\n",
       "      <td>36.2</td>\n",
       "      <td>1110</td>\n",
       "    </tr>\n",
       "    <tr>\n",
       "      <td>...</td>\n",
       "      <td>...</td>\n",
       "      <td>...</td>\n",
       "      <td>...</td>\n",
       "      <td>...</td>\n",
       "      <td>...</td>\n",
       "      <td>...</td>\n",
       "      <td>...</td>\n",
       "      <td>...</td>\n",
       "      <td>...</td>\n",
       "      <td>...</td>\n",
       "      <td>...</td>\n",
       "      <td>...</td>\n",
       "      <td>...</td>\n",
       "      <td>...</td>\n",
       "      <td>...</td>\n",
       "    </tr>\n",
       "    <tr>\n",
       "      <td>501</td>\n",
       "      <td>0.06263</td>\n",
       "      <td>0.0</td>\n",
       "      <td>11.93</td>\n",
       "      <td>0</td>\n",
       "      <td>0.573</td>\n",
       "      <td>6.593</td>\n",
       "      <td>69.1</td>\n",
       "      <td>2.4786</td>\n",
       "      <td>1</td>\n",
       "      <td>273</td>\n",
       "      <td>21.0</td>\n",
       "      <td>391.99</td>\n",
       "      <td>9.67</td>\n",
       "      <td>22.4</td>\n",
       "      <td>1365</td>\n",
       "    </tr>\n",
       "    <tr>\n",
       "      <td>502</td>\n",
       "      <td>0.04527</td>\n",
       "      <td>0.0</td>\n",
       "      <td>11.93</td>\n",
       "      <td>0</td>\n",
       "      <td>0.573</td>\n",
       "      <td>6.120</td>\n",
       "      <td>76.7</td>\n",
       "      <td>2.2875</td>\n",
       "      <td>1</td>\n",
       "      <td>273</td>\n",
       "      <td>21.0</td>\n",
       "      <td>396.90</td>\n",
       "      <td>9.08</td>\n",
       "      <td>20.6</td>\n",
       "      <td>1365</td>\n",
       "    </tr>\n",
       "    <tr>\n",
       "      <td>503</td>\n",
       "      <td>0.06076</td>\n",
       "      <td>0.0</td>\n",
       "      <td>11.93</td>\n",
       "      <td>0</td>\n",
       "      <td>0.573</td>\n",
       "      <td>6.976</td>\n",
       "      <td>91.0</td>\n",
       "      <td>2.1675</td>\n",
       "      <td>1</td>\n",
       "      <td>273</td>\n",
       "      <td>21.0</td>\n",
       "      <td>396.90</td>\n",
       "      <td>5.64</td>\n",
       "      <td>23.9</td>\n",
       "      <td>1365</td>\n",
       "    </tr>\n",
       "    <tr>\n",
       "      <td>504</td>\n",
       "      <td>0.10959</td>\n",
       "      <td>0.0</td>\n",
       "      <td>11.93</td>\n",
       "      <td>0</td>\n",
       "      <td>0.573</td>\n",
       "      <td>6.794</td>\n",
       "      <td>89.3</td>\n",
       "      <td>2.3889</td>\n",
       "      <td>1</td>\n",
       "      <td>273</td>\n",
       "      <td>21.0</td>\n",
       "      <td>393.45</td>\n",
       "      <td>6.48</td>\n",
       "      <td>22.0</td>\n",
       "      <td>1365</td>\n",
       "    </tr>\n",
       "    <tr>\n",
       "      <td>505</td>\n",
       "      <td>0.04741</td>\n",
       "      <td>0.0</td>\n",
       "      <td>11.93</td>\n",
       "      <td>0</td>\n",
       "      <td>0.573</td>\n",
       "      <td>6.030</td>\n",
       "      <td>80.8</td>\n",
       "      <td>2.5050</td>\n",
       "      <td>1</td>\n",
       "      <td>273</td>\n",
       "      <td>21.0</td>\n",
       "      <td>396.90</td>\n",
       "      <td>7.88</td>\n",
       "      <td>11.9</td>\n",
       "      <td>1365</td>\n",
       "    </tr>\n",
       "  </tbody>\n",
       "</table>\n",
       "<p>506 rows × 15 columns</p>\n",
       "</div>"
      ],
      "text/plain": [
       "        crim    zn  indus  chas    nox     rm   age     dis  rad  tax  \\\n",
       "0    0.00632  18.0   2.31     0  0.538  6.575  65.2  4.0900    1  296   \n",
       "1    0.02731   0.0   7.07     0  0.469  6.421  78.9  4.9671    2  242   \n",
       "2    0.02729   0.0   7.07     0  0.469  7.185  61.1  4.9671    2  242   \n",
       "3    0.03237   0.0   2.18     0  0.458  6.998  45.8  6.0622    3  222   \n",
       "4    0.06905   0.0   2.18     0  0.458  7.147  54.2  6.0622    3  222   \n",
       "..       ...   ...    ...   ...    ...    ...   ...     ...  ...  ...   \n",
       "501  0.06263   0.0  11.93     0  0.573  6.593  69.1  2.4786    1  273   \n",
       "502  0.04527   0.0  11.93     0  0.573  6.120  76.7  2.2875    1  273   \n",
       "503  0.06076   0.0  11.93     0  0.573  6.976  91.0  2.1675    1  273   \n",
       "504  0.10959   0.0  11.93     0  0.573  6.794  89.3  2.3889    1  273   \n",
       "505  0.04741   0.0  11.93     0  0.573  6.030  80.8  2.5050    1  273   \n",
       "\n",
       "     ptratio       b  lstat  medv  test  \n",
       "0       15.3  396.90   4.98  24.0  1480  \n",
       "1       17.8  396.90   9.14  21.6  1210  \n",
       "2       17.8  392.83   4.03  34.7  1210  \n",
       "3       18.7  394.63   2.94  33.4  1110  \n",
       "4       18.7  396.90   5.33  36.2  1110  \n",
       "..       ...     ...    ...   ...   ...  \n",
       "501     21.0  391.99   9.67  22.4  1365  \n",
       "502     21.0  396.90   9.08  20.6  1365  \n",
       "503     21.0  396.90   5.64  23.9  1365  \n",
       "504     21.0  393.45   6.48  22.0  1365  \n",
       "505     21.0  396.90   7.88  11.9  1365  \n",
       "\n",
       "[506 rows x 15 columns]"
      ]
     },
     "execution_count": 5,
     "metadata": {},
     "output_type": "execute_result"
    }
   ],
   "source": [
    "#test adding columns to the dataset\n",
    "\n",
    "df[\"test\"] = (df[\"tax\"]*5).astype(np.int)\n",
    "df"
   ]
  },
  {
   "cell_type": "code",
   "execution_count": 7,
   "metadata": {},
   "outputs": [
    {
     "data": {
      "text/plain": [
       "0    65.2\n",
       "1    78.9\n",
       "2    61.1\n",
       "3    45.8\n",
       "4    54.2\n",
       "Name: age, dtype: float64"
      ]
     },
     "execution_count": 7,
     "metadata": {},
     "output_type": "execute_result"
    }
   ],
   "source": [
    "#print out first 5 ages\n",
    "output = df[\"age\"]\n",
    "output.head(5)"
   ]
  },
  {
   "cell_type": "code",
   "execution_count": 19,
   "metadata": {},
   "outputs": [
    {
     "data": {
      "text/html": [
       "<div>\n",
       "<style scoped>\n",
       "    .dataframe tbody tr th:only-of-type {\n",
       "        vertical-align: middle;\n",
       "    }\n",
       "\n",
       "    .dataframe tbody tr th {\n",
       "        vertical-align: top;\n",
       "    }\n",
       "\n",
       "    .dataframe thead th {\n",
       "        text-align: right;\n",
       "    }\n",
       "</style>\n",
       "<table border=\"1\" class=\"dataframe\">\n",
       "  <thead>\n",
       "    <tr style=\"text-align: right;\">\n",
       "      <th></th>\n",
       "      <th>crim</th>\n",
       "      <th>zn</th>\n",
       "      <th>indus</th>\n",
       "      <th>chas</th>\n",
       "      <th>nox</th>\n",
       "      <th>rm</th>\n",
       "      <th>dis</th>\n",
       "      <th>rad</th>\n",
       "      <th>tax</th>\n",
       "      <th>ptratio</th>\n",
       "      <th>b</th>\n",
       "      <th>lstat</th>\n",
       "      <th>medv</th>\n",
       "    </tr>\n",
       "  </thead>\n",
       "  <tbody>\n",
       "    <tr>\n",
       "      <td>0</td>\n",
       "      <td>0.00632</td>\n",
       "      <td>18.0</td>\n",
       "      <td>2.31</td>\n",
       "      <td>0</td>\n",
       "      <td>0.538</td>\n",
       "      <td>6.575</td>\n",
       "      <td>4.0900</td>\n",
       "      <td>1</td>\n",
       "      <td>296</td>\n",
       "      <td>15.3</td>\n",
       "      <td>396.90</td>\n",
       "      <td>4.98</td>\n",
       "      <td>24.0</td>\n",
       "    </tr>\n",
       "    <tr>\n",
       "      <td>1</td>\n",
       "      <td>0.02731</td>\n",
       "      <td>0.0</td>\n",
       "      <td>7.07</td>\n",
       "      <td>0</td>\n",
       "      <td>0.469</td>\n",
       "      <td>6.421</td>\n",
       "      <td>4.9671</td>\n",
       "      <td>2</td>\n",
       "      <td>242</td>\n",
       "      <td>17.8</td>\n",
       "      <td>396.90</td>\n",
       "      <td>9.14</td>\n",
       "      <td>21.6</td>\n",
       "    </tr>\n",
       "    <tr>\n",
       "      <td>2</td>\n",
       "      <td>0.02729</td>\n",
       "      <td>0.0</td>\n",
       "      <td>7.07</td>\n",
       "      <td>0</td>\n",
       "      <td>0.469</td>\n",
       "      <td>7.185</td>\n",
       "      <td>4.9671</td>\n",
       "      <td>2</td>\n",
       "      <td>242</td>\n",
       "      <td>17.8</td>\n",
       "      <td>392.83</td>\n",
       "      <td>4.03</td>\n",
       "      <td>34.7</td>\n",
       "    </tr>\n",
       "    <tr>\n",
       "      <td>3</td>\n",
       "      <td>0.03237</td>\n",
       "      <td>0.0</td>\n",
       "      <td>2.18</td>\n",
       "      <td>0</td>\n",
       "      <td>0.458</td>\n",
       "      <td>6.998</td>\n",
       "      <td>6.0622</td>\n",
       "      <td>3</td>\n",
       "      <td>222</td>\n",
       "      <td>18.7</td>\n",
       "      <td>394.63</td>\n",
       "      <td>2.94</td>\n",
       "      <td>33.4</td>\n",
       "    </tr>\n",
       "    <tr>\n",
       "      <td>4</td>\n",
       "      <td>0.06905</td>\n",
       "      <td>0.0</td>\n",
       "      <td>2.18</td>\n",
       "      <td>0</td>\n",
       "      <td>0.458</td>\n",
       "      <td>7.147</td>\n",
       "      <td>6.0622</td>\n",
       "      <td>3</td>\n",
       "      <td>222</td>\n",
       "      <td>18.7</td>\n",
       "      <td>396.90</td>\n",
       "      <td>5.33</td>\n",
       "      <td>36.2</td>\n",
       "    </tr>\n",
       "  </tbody>\n",
       "</table>\n",
       "</div>"
      ],
      "text/plain": [
       "      crim    zn  indus  chas    nox     rm     dis  rad  tax  ptratio  \\\n",
       "0  0.00632  18.0   2.31     0  0.538  6.575  4.0900    1  296     15.3   \n",
       "1  0.02731   0.0   7.07     0  0.469  6.421  4.9671    2  242     17.8   \n",
       "2  0.02729   0.0   7.07     0  0.469  7.185  4.9671    2  242     17.8   \n",
       "3  0.03237   0.0   2.18     0  0.458  6.998  6.0622    3  222     18.7   \n",
       "4  0.06905   0.0   2.18     0  0.458  7.147  6.0622    3  222     18.7   \n",
       "\n",
       "        b  lstat  medv  \n",
       "0  396.90   4.98  24.0  \n",
       "1  396.90   9.14  21.6  \n",
       "2  392.83   4.03  34.7  \n",
       "3  394.63   2.94  33.4  \n",
       "4  396.90   5.33  36.2  "
      ]
     },
     "execution_count": 19,
     "metadata": {},
     "output_type": "execute_result"
    }
   ],
   "source": [
    "#assign initial inputs to the neural network - (Lstat, not Istat)\n",
    "#Not including age\n",
    "inputs = df[[\"crim\", \"zn\", \"indus\", \"chas\", \"nox\", \"rm\", \"dis\", \"rad\", \"tax\", \"ptratio\", \"b\",\"lstat\",\"medv\"]]\n",
    "inputs.head(5)"
   ]
  },
  {
   "cell_type": "code",
   "execution_count": 23,
   "metadata": {},
   "outputs": [],
   "source": [
    "#Set up intial Neural Network\n",
    "m = kr.models.Sequential()\n",
    "\n",
    "#5 inputs\n",
    "#change linear to sigmoid if you want. Try to mix & match layers to figure it out\n",
    "#IMPORTANT be careful that it doesn't just regress towards the mean\n",
    "m.add(kr.layers.Dense(10, input_dim=13, activation=\"linear\")) #kernel_initializer=\"ones\", bias_initializer=\"zeros\"))\n",
    "m.add(kr.layers.Dense(10, activation=\"linear\")) #kernel_initializer=\"ones\", bias_initializer=\"zeros\"))                    \n",
    "m.add(kr.layers.Dense(1, activation=\"linear\"))\n",
    "\n",
    "m.compile(loss=\"mean_squared_error\", optimizer=\"adam\")"
   ]
  },
  {
   "cell_type": "code",
   "execution_count": 24,
   "metadata": {},
   "outputs": [
    {
     "name": "stdout",
     "output_type": "stream",
     "text": [
      "Epoch 1/10\n",
      "506/506 [==============================] - 2s 3ms/step - loss: 42439.8111\n",
      "Epoch 2/10\n",
      "506/506 [==============================] - 0s 247us/step - loss: 1804.3476\n",
      "Epoch 3/10\n",
      "506/506 [==============================] - 0s 249us/step - loss: 628.6780\n",
      "Epoch 4/10\n",
      "506/506 [==============================] - 0s 271us/step - loss: 559.0686\n",
      "Epoch 5/10\n",
      "506/506 [==============================] - 0s 247us/step - loss: 550.5101\n",
      "Epoch 6/10\n",
      "506/506 [==============================] - 0s 263us/step - loss: 547.3492\n",
      "Epoch 7/10\n",
      "506/506 [==============================] - 0s 291us/step - loss: 547.3273\n",
      "Epoch 8/10\n",
      "506/506 [==============================] - 0s 298us/step - loss: 543.6338\n",
      "Epoch 9/10\n",
      "506/506 [==============================] - 0s 310us/step - loss: 537.1387\n",
      "Epoch 10/10\n",
      "506/506 [==============================] - 0s 352us/step - loss: 535.2770\n"
     ]
    },
    {
     "data": {
      "text/plain": [
       "<keras.callbacks.callbacks.History at 0x2219a221848>"
      ]
     },
     "execution_count": 24,
     "metadata": {},
     "output_type": "execute_result"
    }
   ],
   "source": [
    "m.fit(inputs, output, epochs=10, batch_size=10)"
   ]
  },
  {
   "cell_type": "code",
   "execution_count": 25,
   "metadata": {},
   "outputs": [
    {
     "data": {
      "text/plain": [
       "array([[ 57. ,  55.8,  59.8,  56.6,  57.8,  55. ,  59. ,  60.3,  56. ,\n",
       "         56.4,  55.9,  57.4,  58.3,  61.4,  59.6,  61.3,  61.5,  60.1,\n",
       "         53.3,  60.8,  58.3,  61.3,  60.4,  59.9,  60. ,  52.1,  58.7,\n",
       "         52.7,  60.4,  60.8,  56.4,  58.3,  46.7,  56.7,  48.1,  59.8,\n",
       "         58.6,  60. ,  61. ,  24.4,  25.8,  54.9,  54.1,  54.9,  53.3,\n",
       "         53.7,  54. ,  52.3,  51.8,  53.1,  44.6,  44.7,  46.4,  45.8,\n",
       "         43.7,  14.1,  23.3,  12.9,  46.3,  46.2,  45.6,  43.7,  46.9,\n",
       "         47.3,  45.5,  30. ,  28.6,  60.6,  59.2,  60.3,  61.5,  60.1,\n",
       "         61.5,  60.7,  74. ,  72.1,  71.2,  72.5,  72. ,  72.7,  50.1,\n",
       "         48.7,  49. ,  47.9,  57.3,  58.1,  57. ,  57.2,  61.5,  63.1,\n",
       "         60.9,  60.8,  45.6,  46.2,  45. ,  60.5,  60.9,  67.2,  68.5,\n",
       "         65.3,  74.2,  73.9,  45.6,  71.5,  71.8,  72. ,  72. ,  71.8,\n",
       "         72. ,  71.5,  72.2,  79.8,  78.6,  78.6,  78.1,  74.4,  79. ,\n",
       "         78.3,  74.5,  78.1,  47.1,  45.7,  45.9,  44.5,  45.5,  46.8,\n",
       "         43.1,  75. ,  76.1,  74.5,  76. ,  76.1,  76.3,  74.9,  64. ,\n",
       "         75.7,  74.2,  75.5,  74.2,  76. ,  74.3,  74.9,  73.7,  74.4,\n",
       "         73.3,  56.4,  56.3,  73.7,  72. ,  70.8,  74.5,  71.2,  69.8,\n",
       "         64.9,  68.8,  49.5,  48.8,  80. ,  73.7,  74.3,  73.3,  83.7,\n",
       "         84.8,  84.8,  76. ,  64.4,  83.3,  63. ,  68.8,  70.9,  66.3,\n",
       "         71.1,  65.2,  65.3,  64.7,  66.5,  64.3,  65.1,  66.9,  57.2,\n",
       "         58.2,  56.9,  57.3,  55.6,  52.9,  53.6,  60.9,  58.8,  56.6,\n",
       "         59.5,  57.3,  56.1,  58.1,  33.8,  31.7,  30.8,  33.9,  29.6,\n",
       "         34. ,  33.6,  32. ,  31.2,  37.4,  19.3,  19.6,  59.9,  60.1,\n",
       "         59. ,  59. ,  59. ,  59.3,  58.8,  59.5,  60.9,  56.8,  60.4,\n",
       "         60.6,  62.4,  60.6,  60.5,  66.4,  65. ,  66.3,  67.6,  72.1,\n",
       "         73.6,  69.6,  66.3,  71.6,  66.6,  63.9,  66.4,  70.5,  72.2,\n",
       "         64. ,  63.8,  64.7,  67.1,  47.8,  48.1,  48.3,  47.7,  46.2,\n",
       "         46.8,  49.9,  51.6,  53.5,  51.2,  52.6,  54.7,  54.5,  53.1,\n",
       "         54.4,  59.8,  24.6,  24.4,  20.4,  62.8,  57.4,  56. ,  57.3,\n",
       "         60. ,  61.8,  56.5,  57.9,  53.4,  55.6,  61.9,  59.7,  43.5,\n",
       "         43.1,  45.1,  45.2,  48.1,  42.4,  42.3,  41.7,  41.8,  41.4,\n",
       "         50.1,  52.5,  49.1,  51.3,  19.4,  21.9,  37. ,  10.8,  36.7,\n",
       "         36.4,  35.3,  20.1,  23. ,  19.9,  61.4,  60.7,  62.7,  61.9,\n",
       "         59.7,  34.6,  37.1,  37.3,  50.7,  51.1,  53.8,  43.5,  41.3,\n",
       "         43.5,  41.7,  63.8,  63.1,  58. ,  63.9,  63. ,  63.2,  63.9,\n",
       "         61.2,  61.3,  62.4,  63.7,  62.7,  61.2,  60.9,  59.8,  58.8,\n",
       "         61.4,  60.5,  60.2,  60. ,  77. ,  77.5,  75.6,  44.2,  42.5,\n",
       "         51.3,  50.8,  51.8,  51.8,  51.1,  52.4,  51.9,  51.8,  48.3,\n",
       "         75.9,  45.8,  47. ,  64.4,  62.7,  26.6,  21.8,  46.4,  45.7,\n",
       "         42.9,  42.7,   4.7,  21.4,  21.7, 101.3, 103.9, 104.2, 104.2,\n",
       "        103.6, 100.4, 102.9,  99.6, 102.1, 102.7,  98.3,  82.8, 112. ,\n",
       "        112.2, 113.6, 111.3, 109.8, 102.1, 101.1, 101.7,  99.1, 102.2,\n",
       "        100.5,  99.9,  92.4, 100.6, 101.2, 101.7,  90.2,  99.2,  99.2,\n",
       "         98.5,  98.3, 101.2, 102.2, 103.6, 100.2, 101.9, 101. , 101.5,\n",
       "        102. , 100.1,  96.1,  95.1,  97.8,  99.5,  99.9,  98.3,  91.4,\n",
       "         91.8,  97.9, 101.1,  96.9,  88.8,  66.3,  74. ,  72.9,  85.7,\n",
       "         71.1,  69.6,  70.1,  77.5,  62.9,  72.4,  96.4,  96. ,  95.2,\n",
       "         70.6,  69.7,  68.4,  70.6,  67.7,  77.3,  73.8,  77.2,  76.8,\n",
       "         78.9,  78.6,  76.8,  78.7,  70.5,  68.8,  73.8, 101.5,  98.9,\n",
       "        101.9, 103.5, 101.5,  88. ,  73. ,  96.2, 100.5, 101.7,  94.3,\n",
       "         70.3,  99.2, 101.8, 101.5,  70.9,  74.6,  70.7,  69.9,  91.8,\n",
       "        103.5,  91.5, 102.8, 103.3, 103.4, 103.6,  98.5,  73.5,  98.4,\n",
       "         99.8, 102.6, 103.5, 103.3, 104.5, 105.4,  97.9,  94.4, 103. ,\n",
       "         96.6, 100.5, 102.5, 104. , 104.1, 104.7, 103.1, 101.3, 102.7,\n",
       "        102.4, 102.8, 107. , 100.4,  98.7, 106.2, 108.6,  74.1,  75. ,\n",
       "         74. ,  73.1,  72.6,  73.9,  72.6,  72.5,  58.8,  58.6,  59.9,\n",
       "         58.8,  55.6]], dtype=float32)"
      ]
     },
     "execution_count": 25,
     "metadata": {},
     "output_type": "execute_result"
    }
   ],
   "source": [
    "#Output is set to age\n",
    "#Prediction of outputs, transpose & round to one decimal place.\n",
    "#Don't expext any correlation - validated\n",
    "\n",
    "np.around(m.predict(inputs).T,decimals=1)"
   ]
  },
  {
   "cell_type": "code",
   "execution_count": 29,
   "metadata": {},
   "outputs": [
    {
     "name": "stderr",
     "output_type": "stream",
     "text": [
      "C:\\Users\\reidy\\Anaconda3\\lib\\site-packages\\ipykernel_launcher.py:1: FutureWarning: Method .as_matrix will be removed in a future version. Use .values instead.\n",
      "  \"\"\"Entry point for launching an IPython kernel.\n"
     ]
    },
    {
     "data": {
      "text/plain": [
       "array([ 65.2,  78.9,  61.1,  45.8,  54.2,  58.7,  66.6,  96.1, 100. ,\n",
       "        85.9,  94.3,  82.9,  39. ,  61.8,  84.5,  56.5,  29.3,  81.7,\n",
       "        36.6,  69.5,  98.1,  89.2,  91.7, 100. ,  94.1,  85.7,  90.3,\n",
       "        88.8,  94.4,  87.3,  94.1, 100. ,  82. ,  95. ,  96.9,  68.2,\n",
       "        61.4,  41.5,  30.2,  21.8,  15.8,   2.9,   6.6,   6.5,  40. ,\n",
       "        33.8,  33.3,  85.5,  95.3,  62. ,  45.7,  63. ,  21.1,  21.4,\n",
       "        47.6,  21.9,  35.7,  40.5,  29.2,  47.2,  66.2,  93.4,  67.8,\n",
       "        43.4,  59.5,  17.8,  31.1,  21.4,  36.8,  33. ,   6.6,  17.5,\n",
       "         7.8,   6.2,   6. ,  45. ,  74.5,  45.8,  53.7,  36.6,  33.5,\n",
       "        70.4,  32.2,  46.7,  48. ,  56.1,  45.1,  56.8,  86.3,  63.1,\n",
       "        66.1,  73.9,  53.6,  28.9,  77.3,  57.8,  69.6,  76. ,  36.9,\n",
       "        62.5,  79.9,  71.3,  85.4,  87.4,  90. ,  96.7,  91.9,  85.2,\n",
       "        97.1,  91.2,  54.4,  81.6,  92.9,  95.4,  84.2,  88.2,  72.5,\n",
       "        82.6,  73.1,  65.2,  69.7,  84.1,  92.9,  97. ,  95.8,  88.4,\n",
       "        95.6,  96. ,  98.8,  94.7,  98.9,  97.7,  97.9,  95.4,  98.4,\n",
       "        98.2,  93.5,  98.4,  98.2,  97.9,  93.6, 100. , 100. , 100. ,\n",
       "        97.8, 100. , 100. ,  95.7,  93.8,  94.9,  97.3, 100. ,  88. ,\n",
       "        98.5,  96. ,  82.6,  94. ,  97.4, 100. , 100. ,  92.6,  90.8,\n",
       "        98.2,  93.9,  91.8,  93. ,  96.2,  79.2,  96.1,  95.2,  94.6,\n",
       "        97.3,  88.5,  84.1,  68.7,  33.1,  47.2,  73.4,  74.4,  58.4,\n",
       "        83.3,  62.2,  92.2,  95.6,  89.8,  68.8,  53.6,  41.1,  29.1,\n",
       "        38.9,  21.5,  30.8,  26.3,   9.9,  18.8,  32. ,  34.1,  36.6,\n",
       "        38.3,  15.3,  13.9,  38.4,  15.7,  33.2,  31.9,  22.3,  52.5,\n",
       "        72.7,  59.1, 100. ,  92.1,  88.6,  53.8,  32.3,   9.8,  42.4,\n",
       "        56. ,  85.1,  93.8,  92.4,  88.5,  91.3,  77.7,  80.8,  78.3,\n",
       "        83. ,  86.5,  79.9,  17. ,  21.4,  68.1,  76.9,  73.3,  70.4,\n",
       "        66.5,  61.5,  76.5,  71.6,  18.5,  42.2,  54.3,  65.1,  52.9,\n",
       "         7.8,  76.5,  70.2,  34.9,  79.2,  49.1,  17.5,  13. ,   8.9,\n",
       "         6.8,   8.4,  32. ,  19.1,  34.2,  86.9, 100. , 100. ,  81.8,\n",
       "        89.4,  91.5,  94.5,  91.6,  62.8,  84.6,  67. ,  52.6,  61.5,\n",
       "        42.1,  16.3,  58.7,  51.8,  32.9,  42.8,  49. ,  27.6,  32.1,\n",
       "        32.2,  64.5,  37.2,  49.7,  24.8,  20.8,  31.9,  31.5,  31.3,\n",
       "        45.6,  22.9,  27.9,  27.7,  23.4,  18.4,  42.3,  31.1,  51. ,\n",
       "        58. ,  20.1,  10. ,  47.4,  40.4,  18.4,  17.7,  41.1,  58.1,\n",
       "        71.9,  70.3,  82.5,  76.7,  37.8,  52.8,  90.4,  82.8,  87.3,\n",
       "        77.7,  83.2,  71.7,  67.2,  58.8,  52.3,  54.3,  49.9,  74.3,\n",
       "        40.1,  14.7,  28.9,  43.7,  25.8,  17.2,  32.2,  28.4,  23.3,\n",
       "        38.1,  38.5,  34.5,  46.3,  59.6,  37.3,  45.4,  58.5,  49.3,\n",
       "        59.7,  56.4,  28.1,  48.5,  52.3,  27.7,  29.7,  34.5,  44.4,\n",
       "        35.9,  18.5,  36.1,  21.9,  19.5,  97.4,  91. ,  83.4,  81.3,\n",
       "        88. ,  91.1,  96.2,  89. ,  82.9,  87.9,  91.4, 100. , 100. ,\n",
       "        96.8,  97.5, 100. ,  89.6, 100. , 100. ,  97.9,  93.3,  98.8,\n",
       "        96.2, 100. ,  91.9,  99.1, 100. , 100. ,  91.2,  98.1, 100. ,\n",
       "        89.5, 100. ,  98.9,  97. ,  82.5,  97. ,  92.6,  94.7,  98.8,\n",
       "        96. ,  98.9, 100. ,  77.8, 100. , 100. , 100. ,  96. ,  85.4,\n",
       "       100. , 100. , 100. ,  97.9, 100. , 100. , 100. , 100. , 100. ,\n",
       "       100. , 100. ,  90.8,  89.1, 100. ,  76.5, 100. ,  95.3,  87.6,\n",
       "        85.1,  70.6,  95.4,  59.7,  78.7,  78.1,  95.6,  86.1,  94.3,\n",
       "        74.8,  87.9,  95. ,  94.6,  93.3, 100. ,  87.9,  93.9,  92.4,\n",
       "        97.2, 100. , 100. ,  96.6,  94.8,  96.4,  96.6,  98.7,  98.3,\n",
       "        92.6,  98.2,  91.8,  99.3,  94.1,  86.5,  87.9,  80.3,  83.7,\n",
       "        84.4,  90. ,  88.4,  83. ,  89.9,  65.4,  48.2,  84.7,  94.5,\n",
       "        71. ,  56.7,  84. ,  90.7,  75. ,  67.6,  95.4,  97.4,  93.6,\n",
       "        97.3,  96.7,  88. ,  64.7,  74.9,  77. ,  40.3,  41.9,  51.9,\n",
       "        79.8,  53.2,  92.7,  98.3,  98. ,  98.8,  83.5,  54. ,  42.6,\n",
       "        28.8,  72.9,  70.6,  65.3,  73.5,  79.7,  69.1,  76.7,  91. ,\n",
       "        89.3,  80.8])"
      ]
     },
     "execution_count": 29,
     "metadata": {},
     "output_type": "execute_result"
    }
   ],
   "source": [
    "output.as_matrix()"
   ]
  },
  {
   "cell_type": "code",
   "execution_count": 33,
   "metadata": {},
   "outputs": [
    {
     "name": "stderr",
     "output_type": "stream",
     "text": [
      "C:\\Users\\reidy\\Anaconda3\\lib\\site-packages\\ipykernel_launcher.py:9: FutureWarning: Method .as_matrix will be removed in a future version. Use .values instead.\n",
      "  if __name__ == '__main__':\n"
     ]
    },
    {
     "data": {
      "text/plain": [
       "517.4513712686764"
      ]
     },
     "execution_count": 33,
     "metadata": {},
     "output_type": "execute_result"
    }
   ],
   "source": [
    "#Now data is of same dimension\n",
    "#output.as_matrix() - m.predict(inputs)\n",
    "\n",
    "#One of them needs to be transposed (.T)\n",
    "#output.as_matrix() - m.predict(inputs).T\n",
    "\n",
    "#Sum up the squared losses & take SQRT (mean squared error)\n",
    "\n",
    "np.sqrt(np.sum((output.as_matrix() - m.predict(inputs).T)**2))"
   ]
  },
  {
   "cell_type": "code",
   "execution_count": null,
   "metadata": {},
   "outputs": [],
   "source": []
  },
  {
   "cell_type": "code",
   "execution_count": null,
   "metadata": {},
   "outputs": [],
   "source": []
  },
  {
   "cell_type": "code",
   "execution_count": null,
   "metadata": {},
   "outputs": [],
   "source": []
  },
  {
   "cell_type": "code",
   "execution_count": null,
   "metadata": {},
   "outputs": [],
   "source": []
  },
  {
   "cell_type": "code",
   "execution_count": null,
   "metadata": {},
   "outputs": [],
   "source": []
  },
  {
   "cell_type": "code",
   "execution_count": 37,
   "metadata": {},
   "outputs": [],
   "source": [
    "#create new neural network\n",
    "m = kr.models.Sequential()\n",
    "\n",
    "#add a single neuron in a single layer, initialised with weight 1 and bias 0. \n",
    "#Change the first number to add more neurons, input_dim is how many inputs the neural network will take\n",
    "#kernel initialiser sets weights to 1, biases also set to 0.\n",
    "m.add(kr.layers.Dense(1, input_dim=1, activation=\"linear\", kernel_initializer=\"ones\", bias_initializer=\"zeros\"))\n",
    "\n",
    "#compile the model\n",
    "#for training use loss, SGD Stochastic Gradient Descent - NN method used to play with the weights to reduce the means squared error \n",
    "m.compile(loss=\"mean_squared_error\", optimizer=\"sgd\")"
   ]
  },
  {
   "cell_type": "code",
   "execution_count": 38,
   "metadata": {},
   "outputs": [],
   "source": [
    "x = np.arange(0.0, 10.0, 1)\n",
    "\n",
    "#\n",
    "y = m.predict(x)"
   ]
  },
  {
   "cell_type": "code",
   "execution_count": 15,
   "metadata": {},
   "outputs": [
    {
     "data": {
      "text/plain": [
       "[<matplotlib.lines.Line2D at 0x17ae84fa848>]"
      ]
     },
     "execution_count": 15,
     "metadata": {},
     "output_type": "execute_result"
    },
    {
     "data": {
      "image/png": "[encoded data removed]",
      "text/plain": [
       "<Figure size 720x720 with 1 Axes>"
      ]
     },
     "metadata": {
      "needs_background": "light"
     },
     "output_type": "display_data"
    }
   ],
   "source": [
    "plt.plot(x, y, 'k.')"
   ]
  },
  {
   "cell_type": "code",
   "execution_count": 39,
   "metadata": {},
   "outputs": [],
   "source": [
    "#EXAMPLE ONLY hard code the initializers\n",
    "#create new neural network\n",
    "m = kr.models.Sequential()\n",
    "\n",
    "#add a single neuron in a single layer, initialised with weight 1 and bias 0. \n",
    "#Change the first number to add more neurons, input_dim is how many inputs the neural network will take\n",
    "#kernel initialiser sets weights to 1, biases also set to 0.\n",
    "m.add(kr.layers.Dense(1, input_dim=1, activation=\"linear\", kernel_initializer=kr.initializers.Constant(value=2), bias_initializer=kr.initializers.Constant(value=1)))\n",
    "\n",
    "#compile the model\n",
    "#for training use loss, SGD Stochastic Gradient Descent - NN method used to play with the weights to reduce the means squared error \n",
    "m.compile(loss=\"mean_squared_error\", optimizer=\"sgd\")"
   ]
  },
  {
   "cell_type": "code",
   "execution_count": 40,
   "metadata": {},
   "outputs": [],
   "source": [
    "x = np.arange(0.0, 10.0, 1)\n",
    "\n",
    "#Now y is x value * 2 (weight) + 1 (bias)\n",
    "y = m.predict(x)"
   ]
  },
  {
   "cell_type": "code",
   "execution_count": 26,
   "metadata": {},
   "outputs": [
    {
     "data": {
      "text/plain": [
       "[<matplotlib.lines.Line2D at 0x17aeb87c988>]"
      ]
     },
     "execution_count": 26,
     "metadata": {},
     "output_type": "execute_result"
    },
    {
     "data": {
      "image/png": "[encoded data removed]",
      "text/plain": [
       "<Figure size 720x720 with 1 Axes>"
      ]
     },
     "metadata": {
      "needs_background": "light"
     },
     "output_type": "display_data"
    }
   ],
   "source": [
    "plt.plot(x, y, 'r*')"
   ]
  },
  {
   "cell_type": "code",
   "execution_count": 41,
   "metadata": {},
   "outputs": [],
   "source": [
    "#EXAMPLE ONLY hard code the initializers\n",
    "#create new neural network\n",
    "m = kr.models.Sequential()\n",
    "\n",
    "#add a new layer with two neurons in a single layer (first layer)\n",
    "m.add(kr.layers.Dense(2, input_dim=1, activation=\"linear\"))\n",
    "\n",
    "#add a single neuron in a single layer, initialised with weight 1 and bias 0.\n",
    "#no input dimension required as it follows on from previous layer and must take 2 inputs\n",
    "#remember these are weight & bias for (second layer)\n",
    "m.add(kr.layers.Dense(1, activation=\"linear\", kernel_initializer=kr.initializers.Constant(value=1), bias_initializer=kr.initializers.Constant(value=0)))\n",
    "2,3\n",
    "#set the weight/bias of the two neurons.\n",
    "#EXAMPLE ONLY we won't use set weights\n",
    "#bias are b1 -5, b2 -3 ; weights are w11 2, w12 3.\n",
    "m.layers[0].set_weights([np.matrix([2,3]),np.array([-5,-3])])\n",
    "\n",
    "#compile the model\n",
    "#for training use loss, SGD Stochastic Gradient Descent - NN method used to play with the weights to reduce the means squared error \n",
    "m.compile(loss=\"mean_squared_error\", optimizer=\"sgd\")"
   ]
  },
  {
   "cell_type": "code",
   "execution_count": 42,
   "metadata": {},
   "outputs": [],
   "source": [
    "x = np.arange(0.0, 10.0, 1)\n",
    "\n",
    "#Now y is x value * 2 (weight) + 1 (bias)\n",
    "y = m.predict(x)"
   ]
  },
  {
   "cell_type": "code",
   "execution_count": 29,
   "metadata": {},
   "outputs": [
    {
     "data": {
      "text/plain": [
       "[<matplotlib.lines.Line2D at 0x17aebda32c8>]"
      ]
     },
     "execution_count": 29,
     "metadata": {},
     "output_type": "execute_result"
    },
    {
     "data": {
      "image/png": "[encoded data removed]",
      "text/plain": [
       "<Figure size 720x720 with 1 Axes>"
      ]
     },
     "metadata": {
      "needs_background": "light"
     },
     "output_type": "display_data"
    }
   ],
   "source": [
    "plt.plot(x, y, 'c.')"
   ]
  },
  {
   "cell_type": "code",
   "execution_count": 47,
   "metadata": {},
   "outputs": [],
   "source": [
    "#EXAMPLE ONLY hard code the initializers\n",
    "#create new neural network\n",
    "m = kr.models.Sequential()\n",
    "\n",
    "\n",
    "\n",
    "#add a single neuron in a single layer, initialised with weight 1 and bias 0.\n",
    "#activation function is sigmoid\n",
    "m.add(kr.layers.Dense(1, input_dim=1, activation=\"sigmoid\", kernel_initializer=kr.initializers.Constant(value=1), bias_initializer=kr.initializers.Constant(value=0)))\n",
    "\n",
    "\n",
    "#compile the model\n",
    "#for training use loss, SGD Stochastic Gradient Descent - NN method used to play with the weights to reduce the means squared error \n",
    "m.compile(loss=\"mean_squared_error\", optimizer=\"sgd\")"
   ]
  },
  {
   "cell_type": "code",
   "execution_count": 48,
   "metadata": {},
   "outputs": [],
   "source": [
    "x = np.arange(-10.0, 10.0, 1)\n",
    "\n",
    "#Now y is x value * 2 (weight) + 1 (bias)\n",
    "y = m.predict(x)"
   ]
  },
  {
   "cell_type": "code",
   "execution_count": 50,
   "metadata": {},
   "outputs": [
    {
     "data": {
      "text/plain": [
       "[<matplotlib.lines.Line2D at 0x17aec4865c8>]"
      ]
     },
     "execution_count": 50,
     "metadata": {},
     "output_type": "execute_result"
    },
    {
     "data": {
      "image/png": "[encoded data removed]",
      "text/plain": [
       "<Figure size 720x720 with 1 Axes>"
      ]
     },
     "metadata": {
      "needs_background": "light"
     },
     "output_type": "display_data"
    }
   ],
   "source": [
    "plt.plot(x, y, 'y.-')"
   ]
  },
  {
   "cell_type": "code",
   "execution_count": 54,
   "metadata": {},
   "outputs": [],
   "source": [
    "x = np.linspace(-10.0,10.0,2000)\n",
    "\n",
    "y_l = (3.0 * x) + 5.0\n",
    "y_p = (x * x) - 41.0\n",
    "y_s = 10.0 * np.sin(2.0 * x)\n"
   ]
  },
  {
   "cell_type": "code",
   "execution_count": 55,
   "metadata": {},
   "outputs": [
    {
     "data": {
      "text/plain": [
       "<matplotlib.legend.Legend at 0x17aec839808>"
      ]
     },
     "execution_count": 55,
     "metadata": {},
     "output_type": "execute_result"
    },
    {
     "data": {
      "image/png": "[encoded data removed]",
      "text/plain": [
       "<Figure size 720x720 with 1 Axes>"
      ]
     },
     "metadata": {
      "needs_background": "light"
     },
     "output_type": "display_data"
    }
   ],
   "source": [
    "plt.plot(x, y_l, label=\"$3x + 5$\")\n",
    "plt.plot(x, y_p, label=\"$x^2 - 41$\")\n",
    "plt.plot(x, y_s, label=\"$10 \\sin(2x)$\")\n",
    "\n",
    "plt.legend()"
   ]
  },
  {
   "cell_type": "code",
   "execution_count": 70,
   "metadata": {},
   "outputs": [
    {
     "name": "stdout",
     "output_type": "stream",
     "text": [
      "Epoch 1/15\n",
      "2000/2000 [==============================] - 2s 1ms/step - loss: 49.0684\n",
      "Epoch 2/15\n",
      "2000/2000 [==============================] - 1s 307us/step - loss: 49.0563\n",
      "Epoch 3/15\n",
      "2000/2000 [==============================] - 1s 343us/step - loss: 48.9803\n",
      "Epoch 4/15\n",
      "2000/2000 [==============================] - 1s 430us/step - loss: 48.9574\n",
      "Epoch 5/15\n",
      "2000/2000 [==============================] - 1s 336us/step - loss: 48.9261\n",
      "Epoch 6/15\n",
      "2000/2000 [==============================] - 1s 345us/step - loss: 48.8401\n",
      "Epoch 7/15\n",
      "2000/2000 [==============================] - 1s 352us/step - loss: 48.7634\n",
      "Epoch 8/15\n",
      "2000/2000 [==============================] - 1s 355us/step - loss: 48.6815\n",
      "Epoch 9/15\n",
      "2000/2000 [==============================] - 1s 336us/step - loss: 48.6132\n",
      "Epoch 10/15\n",
      "2000/2000 [==============================] - 1s 328us/step - loss: 48.5128\n",
      "Epoch 11/15\n",
      "2000/2000 [==============================] - 1s 369us/step - loss: 48.2927\n",
      "Epoch 12/15\n",
      "2000/2000 [==============================] - 1s 361us/step - loss: 48.2709\n",
      "Epoch 13/15\n",
      "2000/2000 [==============================] - 1s 381us/step - loss: 48.0512\n",
      "Epoch 14/15\n",
      "2000/2000 [==============================] - 1s 332us/step - loss: 47.9798\n",
      "Epoch 15/15\n",
      "2000/2000 [==============================] - 1s 336us/step - loss: 47.8124\n"
     ]
    },
    {
     "data": {
      "text/plain": [
       "[<matplotlib.lines.Line2D at 0x17aef49e808>]"
      ]
     },
     "execution_count": 70,
     "metadata": {},
     "output_type": "execute_result"
    },
    {
     "data": {
      "image/png": "[encoded data removed]",
      "text/plain": [
       "<Figure size 720x720 with 1 Axes>"
      ]
     },
     "metadata": {
      "needs_background": "light"
     },
     "output_type": "display_data"
    }
   ],
   "source": [
    "#y = y_l\n",
    "#y = y_p\n",
    "y = y_s\n",
    "\n",
    "#Create a new neural network\n",
    "m = kr.models.Sequential()\n",
    "\n",
    "#Add neurons\n",
    "#m.add(kr.layers.Dense(1, input_dim=1, activation=\"linear\"))\n",
    "\n",
    "#Add neurons (changed activation function from tanh to sigmoid)\n",
    "m.add(kr.layers.Dense(10, input_dim=1, activation=\"tanh\"))\n",
    "m.add(kr.layers.Dense(10, activation=\"linear\"))\n",
    "m.add(kr.layers.Dense(1, activation=\"linear\"))\n",
    "\n",
    "#compile the model\n",
    "#learning rate, number associated with the size of the jump its willing to take when it gets something wrong\n",
    "#Take x, predict y, compare y to what it should have been, now use MSE to calculate how far away you were\n",
    "#SGD uses the learning rate to jump weights and biases in NN a little in the right direction. next time X gets a closer prediction y.\n",
    "#Can use ADAM instead of SGD for polynomials\n",
    "m.compile(loss=\"mean_squared_error\", optimizer=\"adam\")\n",
    "\n",
    "#Train the model\n",
    "#All x and y values are passed through 15 times\n",
    "#epochs are full passes through the NN\n",
    "m.fit(x, y, epochs=15,batch_size=10)\n",
    "\n",
    "#Run each x value through the neural network\n",
    "p = m.predict(x)\n",
    "\n",
    "#Plot the values\n",
    "#Just plotting p versus y in this instance\n",
    "plt.plot(x, p, \"r-\", label=\"Prediction\")\n",
    "plt.plot(x, y, \"k-\", label=\"Original\")"
   ]
  },
  {
   "cell_type": "code",
   "execution_count": null,
   "metadata": {},
   "outputs": [],
   "source": []
  }
 ],
 "metadata": {
  "kernelspec": {
   "display_name": "Python 3",
   "language": "python",
   "name": "python3"
  },
  "language_info": {
   "codemirror_mode": {
    "name": "ipython",
    "version": 3
   },
   "file_extension": ".py",
   "mimetype": "text/x-python",
   "name": "python",
   "nbconvert_exporter": "python",
   "pygments_lexer": "ipython3",
   "version": "3.7.4"
  }
 },
 "nbformat": 4,
 "nbformat_minor": 2
}
